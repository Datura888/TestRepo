git rebase -p --onto SHA^ SHA
