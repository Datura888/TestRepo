{
 "cells": [
  {
   "cell_type": "markdown",
   "id": "b1578cb4-31e5-4a72-b210-e1caee37ea05",
   "metadata": {},
   "source": [
    "**Question 1 - Using yfinance to extract tesla stock info**"
   ]
  },
  {
   "cell_type": "code",
   "execution_count": null,
   "id": "9f664214-40b4-4bce-9f99-96fb5049205a",
   "metadata": {
    "scrolled": true
   },
   "outputs": [],
   "source": [
    "import yfinance as yf\n",
    "\n",
    "# Extract Tesla stock data\n",
    "tesla = yf.Ticker(\"TSLA\")\n",
    "tesla_data = tesla.history(period=\"max\")\n",
    "\n",
    "# Show the latest data\n",
    "tesla_data.reset_index(inplace=True)\n",
    "tesla_data.tail()"
   ]
  },
  {
   "cell_type": "markdown",
   "id": "50e436db-0ecd-4a07-a57d-5df3e112f417",
   "metadata": {},
   "source": [
    "**Question 2 - Extracting Tesla Revenue Data Using Webscraping**"
   ]
  },
  {
   "cell_type": "code",
   "execution_count": null,
   "id": "64558c59-a815-4e47-856b-95d29dd530e4",
   "metadata": {},
   "outputs": [],
   "source": [
    "import requests\n",
    "from bs4 import BeautifulSoup\n",
    "import pandas as pd\n",
    "\n",
    "url = \"https://www.macrotrends.net/stocks/charts/TSLA/tesla/revenue\"\n",
    "html_data = requests.get(url).text\n",
    "\n",
    "soup = BeautifulSoup(html_data, \"html.parser\")\n",
    "\n",
    "# Parse the revenue table\n",
    "tesla_revenue = pd.DataFrame(columns=[\"Date\", \"Revenue\"])\n",
    "for row in soup.find_all(\"table\")[1].find_all(\"tr\"):\n",
    "    cols = row.find_all(\"td\")\n",
    "    if len(cols) == 2:\n",
    "        date = cols[0].text.strip()\n",
    "        revenue = cols[1].text.strip().replace(\"$\", \"\").replace(\",\", \"\")\n",
    "        if revenue != \"\":\n",
    "            tesla_revenue = pd.concat([tesla_revenue, pd.DataFrame([[date, revenue]], columns=[\"Date\", \"Revenue\"])], ignore_index=True)\n",
    "\n",
    "# Clean and show data\n",
    "tesla_revenue[\"Revenue\"] = pd.to_numeric(tesla_revenue[\"Revenue\"])\n",
    "tesla_revenue.tail()"
   ]
  },
  {
   "cell_type": "markdown",
   "id": "90afda73-8141-492e-ae3f-dad7bab8d8a9",
   "metadata": {},
   "source": [
    "**Question 3 - Extracting GameStop Stock Data Using yfinance**"
   ]
  },
  {
   "cell_type": "code",
   "execution_count": null,
   "id": "4d0e4fbd-43e1-4792-8ca1-9f9612e1f6df",
   "metadata": {},
   "outputs": [],
   "source": [
    "# Extract GameStop stock data\n",
    "gme = yf.Ticker(\"GME\")\n",
    "gme_data = gme.history(period=\"max\")\n",
    "\n",
    "# Clean and show\n",
    "gme_data.reset_index(inplace=True)\n",
    "gme_data.tail()"
   ]
  },
  {
   "cell_type": "markdown",
   "id": "47b1edc5-5a1e-4e63-a8bd-1fd8bcb8d724",
   "metadata": {},
   "source": [
    "**Question 4 - Extracting GameStop Revenue Data Using Webscraping**"
   ]
  },
  {
   "cell_type": "code",
   "execution_count": null,
   "id": "f8c8bccc-4035-4f14-a647-b23ad4b71ab7",
   "metadata": {},
   "outputs": [],
   "source": [
    "url = \"https://www.macrotrends.net/stocks/charts/GME/gamestop/revenue\"\n",
    "html_data = requests.get(url).text\n",
    "\n",
    "soup = BeautifulSoup(html_data, \"html.parser\")\n",
    "\n",
    "# Parse the revenue table\n",
    "gme_revenue = pd.DataFrame(columns=[\"Date\", \"Revenue\"])\n",
    "for row in soup.find_all(\"table\")[1].find_all(\"tr\"):\n",
    "    cols = row.find_all(\"td\")\n",
    "    if len(cols) == 2:\n",
    "        date = cols[0].text.strip()\n",
    "        revenue = cols[1].text.strip().replace(\"$\", \"\").replace(\",\", \"\")\n",
    "        if revenue != \"\":\n",
    "            gme_revenue = pd.concat([gme_revenue, pd.DataFrame([[date, revenue]], columns=[\"Date\", \"Revenue\"])], ignore_index=True)\n",
    "\n",
    "# Clean and show data\n",
    "gme_revenue[\"Revenue\"] = pd.to_numeric(gme_revenue[\"Revenue\"])\n",
    "gme_revenue.tail()"
   ]
  },
  {
   "cell_type": "markdown",
   "id": "302c2fe6-f956-4c43-ad11-1f3a36d94350",
   "metadata": {},
   "source": [
    "**Question 5 - Tesla Stock and Revenue Dashboard**"
   ]
  },
  {
   "cell_type": "code",
   "execution_count": null,
   "id": "5c1bea1d-7665-4d91-9c73-2e1ef5c242ec",
   "metadata": {},
   "outputs": [],
   "source": [
    "import plotly.graph_objs as go\n",
    "import plotly.subplots as sp\n",
    "\n",
    "# Create figure with secondary y-axis\n",
    "fig = sp.make_subplots(specs=[[{\"secondary_y\": True}]])\n",
    "\n",
    "# Stock price trace\n",
    "fig.add_trace(go.Scatter(x=tesla_data['Date'], y=tesla_data['Close'], name=\"Tesla Stock Price\"), secondary_y=False)\n",
    "\n",
    "# Revenue trace\n",
    "fig.add_trace(go.Scatter(x=tesla_revenue['Date'], y=tesla_revenue['Revenue'], name=\"Tesla Revenue\"), secondary_y=True)\n",
    "\n",
    "# Layout\n",
    "fig.update_layout(\n",
    "    title=\"Tesla Stock Price and Revenue Over Time\",\n",
    "    xaxis_title=\"Date\",\n",
    "    yaxis_title=\"Stock Price\",\n",
    "    legend_title=\"Metrics\",\n",
    ")\n",
    "\n",
    "fig.show()"
   ]
  },
  {
   "cell_type": "markdown",
   "id": "7bf65361-73f7-4d23-a86f-89258ce85211",
   "metadata": {},
   "source": [
    "**Question 6 - GameStop Stock and Revenue Dashboard**"
   ]
  },
  {
   "cell_type": "code",
   "execution_count": null,
   "id": "51a13c64-d390-4954-8a02-5f3885259893",
   "metadata": {},
   "outputs": [],
   "source": [
    "# Create figure with secondary y-axis\n",
    "fig = sp.make_subplots(specs=[[{\"secondary_y\": True}]])\n",
    "\n",
    "# Stock price trace\n",
    "fig.add_trace(go.Scatter(x=gme_data['Date'], y=gme_data['Close'], name=\"GameStop Stock Price\"), secondary_y=False)\n",
    "\n",
    "# Revenue trace\n",
    "fig.add_trace(go.Scatter(x=gme_revenue['Date'], y=gme_revenue['Revenue'], name=\"GameStop Revenue\"), secondary_y=True)\n",
    "\n",
    "# Layout\n",
    "fig.update_layout(\n",
    "    title=\"GameStop Stock Price and Revenue Over Time\",\n",
    "    xaxis_title=\"Date\",\n",
    "    yaxis_title=\"Stock Price\",\n",
    "    legend_title=\"Metrics\",\n",
    ")\n",
    "\n",
    "fig.show()"
   ]
  }
 ],
 "metadata": {
  "kernelspec": {
   "display_name": "Python [conda env:anaconda3] *",
   "language": "python",
   "name": "conda-env-anaconda3-py"
  },
  "language_info": {
   "codemirror_mode": {
    "name": "ipython",
    "version": 3
   },
   "file_extension": ".py",
   "mimetype": "text/x-python",
   "name": "python",
   "nbconvert_exporter": "python",
   "pygments_lexer": "ipython3",
   "version": "3.13.5"
  }
 },
 "nbformat": 4,
 "nbformat_minor": 5
}
