{
 "cells": [
  {
   "cell_type": "markdown",
   "id": "fd6993e8-2e96-4229-a82d-848618f85a16",
   "metadata": {},
   "source": [
    "# Data Science Tools and Ecosystems"
   ]
  },
  {
   "cell_type": "markdown",
   "id": "abe57e60-14a9-4032-98f0-6457394f4167",
   "metadata": {},
   "source": [
    "In this notebook, Data Science Tools are Summarised"
   ]
  },
  {
   "cell_type": "markdown",
   "id": "f1eec39c-9cd6-4c71-bb04-50a7695ac982",
   "metadata": {},
   "source": [
    "Some of the popular languages Data Scientists use are\n",
    "1. Python\n",
    "2. R\n",
    "3. SQL"
   ]
  },
  {
   "cell_type": "markdown",
   "id": "6a1264ea-e462-4d30-8aa1-9c783d61f9eb",
   "metadata": {},
   "source": [
    "Some of the commonly used libraries used by Data Scientists include:\n",
    "1. NumPy\n",
    "2. Pandas\n",
    "3. Matplotlib"
   ]
  },
  {
   "cell_type": "markdown",
   "id": "ad080574-9fe3-4d81-8c93-7de24af6c6f2",
   "metadata": {},
   "source": [
    "| Data Science Tools |\n",
    "|-|\n",
    "| Jupyter |\n",
    "| Apache Spark |\n",
    "| RStudio |"
   ]
  },
  {
   "attachments": {},
   "cell_type": "markdown",
   "id": "f4168b6e-59b6-4094-b2b3-8dfe11012c2e",
   "metadata": {},
   "source": [
    "### Below are a few examples of arithmetic expressions in Python"
   ]
  },
  {
   "cell_type": "code",
   "execution_count": 2,
   "id": "faf33e87-8cd7-4494-ba02-e7778cfd05f4",
   "metadata": {},
   "outputs": [
    {
     "data": {
      "text/plain": [
       "17"
      ]
     },
     "execution_count": 2,
     "metadata": {},
     "output_type": "execute_result"
    }
   ],
   "source": [
    "(3*4)+5"
   ]
  },
  {
   "cell_type": "code",
   "execution_count": 1,
   "id": "e09d7a21-8a17-4716-8709-a9fa0123286b",
   "metadata": {},
   "outputs": [
    {
     "data": {
      "text/plain": [
       "3.3333333333333335"
      ]
     },
     "execution_count": 1,
     "metadata": {},
     "output_type": "execute_result"
    }
   ],
   "source": [
    "200/60"
   ]
  },
  {
   "cell_type": "markdown",
   "id": "62c02f35-edad-41e8-a154-38b694851dea",
   "metadata": {},
   "source": [
    "**Objectives**\n",
    "- List popular languages for Data Science\n",
    "- List common Data Science libraries\n",
    "- Introduce basic arithmetic expressions in Python"
   ]
  },
  {
   "cell_type": "markdown",
   "id": "11d59d94-9af4-4dfa-b08a-494eca153ce9",
   "metadata": {},
   "source": [
    "## Author\n",
    "Datura888"
   ]
  }
 ],
 "metadata": {
  "kernelspec": {
   "display_name": "Python 3 (ipykernel)",
   "language": "python",
   "name": "python3"
  },
  "language_info": {
   "codemirror_mode": {
    "name": "ipython",
    "version": 3
   },
   "file_extension": ".py",
   "mimetype": "text/x-python",
   "name": "python",
   "nbconvert_exporter": "python",
   "pygments_lexer": "ipython3",
   "version": "3.12.8"
  }
 },
 "nbformat": 4,
 "nbformat_minor": 5
}
